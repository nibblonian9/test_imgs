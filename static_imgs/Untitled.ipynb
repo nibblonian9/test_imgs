{
 "cells": [
  {
   "cell_type": "code",
   "execution_count": 3,
   "id": "1765bd36",
   "metadata": {},
   "outputs": [],
   "source": [
    "import os\n",
    "\n",
    "from trino.dbapi import connect\n",
    "from trino.auth import BasicAuthentication\n",
    "import pandas as pd\n",
    "\n",
    "import numpy as np\n",
    "# Create your views here.\n",
    "\n",
    "conn = connect(host=\"tcp.cheerful-maggot.dataos.app\",\n",
    "               port=\"7432\",\n",
    "               auth=BasicAuthentication(\n",
    "                   'balaji', \"dG9rZW5fc2NhcmNlbHlfc2VyaW91c2x5X2ZyZXNoX2tpZC43YmJmMDIwZS0xMmJhLTRkNjEtYmFmZS0zNGQzNTcxZDZkOGQ=\"),\n",
    "               http_scheme=\"https\",\n",
    "               http_headers={\"cluster-name\": \"minervac\"} \n",
    "              )"
   ]
  },
  {
   "cell_type": "code",
   "execution_count": 17,
   "id": "023e63ad",
   "metadata": {},
   "outputs": [],
   "source": [
    "prod_names_uncased = [s.replace('.jpg', '') for s in os.listdir() if s.endswith('.jpg')]"
   ]
  },
  {
   "cell_type": "code",
   "execution_count": 6,
   "id": "6070218a",
   "metadata": {},
   "outputs": [],
   "source": [
    "qr = \"SELECT sku_id, product_name from icebasedev.retail_accelerator.product\""
   ]
  },
  {
   "cell_type": "code",
   "execution_count": 7,
   "id": "67c1d6b7",
   "metadata": {},
   "outputs": [
    {
     "name": "stderr",
     "output_type": "stream",
     "text": [
      "/Users/astrobalaji/opt/anaconda3/lib/python3.9/site-packages/pandas/io/sql.py:761: UserWarning: pandas only support SQLAlchemy connectable(engine/connection) ordatabase string URI or sqlite3 DBAPI2 connectionother DBAPI2 objects are not tested, please consider using SQLAlchemy\n",
      "  warnings.warn(\n"
     ]
    }
   ],
   "source": [
    "df = pd.read_sql(qr, conn)"
   ]
  },
  {
   "cell_type": "code",
   "execution_count": 9,
   "id": "37805fa9",
   "metadata": {},
   "outputs": [],
   "source": [
    "df.product_name = df.product_name.str.lower()"
   ]
  },
  {
   "cell_type": "code",
   "execution_count": 10,
   "id": "7d3ed61b",
   "metadata": {},
   "outputs": [],
   "source": [
    "prod_names = [p.lower() for p in prod_names]"
   ]
  },
  {
   "cell_type": "code",
   "execution_count": 15,
   "id": "18948d28",
   "metadata": {},
   "outputs": [],
   "source": [
    "prods_df = df[df.product_name.isin(prod_names)].drop_duplicates(subset = ['product_name'])"
   ]
  },
  {
   "cell_type": "code",
   "execution_count": 12,
   "id": "1e947fe3",
   "metadata": {},
   "outputs": [
    {
     "data": {
      "text/plain": [
       "149"
      ]
     },
     "execution_count": 12,
     "metadata": {},
     "output_type": "execute_result"
    }
   ],
   "source": [
    "len(prod_names)"
   ]
  },
  {
   "cell_type": "code",
   "execution_count": 16,
   "id": "a29bbe5a",
   "metadata": {},
   "outputs": [
    {
     "data": {
      "text/html": [
       "<div>\n",
       "<style scoped>\n",
       "    .dataframe tbody tr th:only-of-type {\n",
       "        vertical-align: middle;\n",
       "    }\n",
       "\n",
       "    .dataframe tbody tr th {\n",
       "        vertical-align: top;\n",
       "    }\n",
       "\n",
       "    .dataframe thead th {\n",
       "        text-align: right;\n",
       "    }\n",
       "</style>\n",
       "<table border=\"1\" class=\"dataframe\">\n",
       "  <thead>\n",
       "    <tr style=\"text-align: right;\">\n",
       "      <th></th>\n",
       "      <th>sku_id</th>\n",
       "      <th>product_name</th>\n",
       "    </tr>\n",
       "  </thead>\n",
       "  <tbody>\n",
       "    <tr>\n",
       "      <th>0</th>\n",
       "      <td>SKU0015111</td>\n",
       "      <td>jordan jacket</td>\n",
       "    </tr>\n",
       "    <tr>\n",
       "      <th>12</th>\n",
       "      <td>SKU0015123</td>\n",
       "      <td>bath &amp; body works body lotion</td>\n",
       "    </tr>\n",
       "    <tr>\n",
       "      <th>22</th>\n",
       "      <td>SKU0015133</td>\n",
       "      <td>carter's sleepers</td>\n",
       "    </tr>\n",
       "    <tr>\n",
       "      <th>33</th>\n",
       "      <td>SKU0015144</td>\n",
       "      <td>yves saint laurent rose</td>\n",
       "    </tr>\n",
       "    <tr>\n",
       "      <th>52</th>\n",
       "      <td>SKU0015163</td>\n",
       "      <td>tommy hilfiger button-up shirt</td>\n",
       "    </tr>\n",
       "    <tr>\n",
       "      <th>...</th>\n",
       "      <td>...</td>\n",
       "      <td>...</td>\n",
       "    </tr>\n",
       "    <tr>\n",
       "      <th>6551</th>\n",
       "      <td>SKU0021662</td>\n",
       "      <td>diesel sweater</td>\n",
       "    </tr>\n",
       "    <tr>\n",
       "      <th>7197</th>\n",
       "      <td>SKU0022308</td>\n",
       "      <td>oshkosh b'gosh shorts</td>\n",
       "    </tr>\n",
       "    <tr>\n",
       "      <th>7752</th>\n",
       "      <td>SKU0022863</td>\n",
       "      <td>under armour blazer</td>\n",
       "    </tr>\n",
       "    <tr>\n",
       "      <th>9230</th>\n",
       "      <td>SKU0024341</td>\n",
       "      <td>burberry jasmine</td>\n",
       "    </tr>\n",
       "    <tr>\n",
       "      <th>10616</th>\n",
       "      <td>SKU0025727</td>\n",
       "      <td>hanna andersson scarf</td>\n",
       "    </tr>\n",
       "  </tbody>\n",
       "</table>\n",
       "<p>145 rows × 2 columns</p>\n",
       "</div>"
      ],
      "text/plain": [
       "           sku_id                    product_name\n",
       "0      SKU0015111                   jordan jacket\n",
       "12     SKU0015123   bath & body works body lotion\n",
       "22     SKU0015133               carter's sleepers\n",
       "33     SKU0015144         yves saint laurent rose\n",
       "52     SKU0015163  tommy hilfiger button-up shirt\n",
       "...           ...                             ...\n",
       "6551   SKU0021662                  diesel sweater\n",
       "7197   SKU0022308           oshkosh b'gosh shorts\n",
       "7752   SKU0022863             under armour blazer\n",
       "9230   SKU0024341                burberry jasmine\n",
       "10616  SKU0025727           hanna andersson scarf\n",
       "\n",
       "[145 rows x 2 columns]"
      ]
     },
     "execution_count": 16,
     "metadata": {},
     "output_type": "execute_result"
    }
   ],
   "source": [
    "prods_df"
   ]
  },
  {
   "cell_type": "code",
   "execution_count": 18,
   "id": "a71f0194",
   "metadata": {},
   "outputs": [],
   "source": [
    "prod_df = pd.DataFrame()"
   ]
  },
  {
   "cell_type": "code",
   "execution_count": 20,
   "id": "6ca78f2d",
   "metadata": {},
   "outputs": [],
   "source": [
    "prod_df['filename'] = prod_names_uncased\n",
    "prod_df['product_name'] = prod_names"
   ]
  },
  {
   "cell_type": "code",
   "execution_count": 22,
   "id": "37d5fda0",
   "metadata": {},
   "outputs": [],
   "source": [
    "prods_df = prods_df.merge(prod_df, on = 'product_name', how = 'left')\n",
    "prods_df['filename'] = prods_df['filename'].apply(lambda x: x+'.jpg')"
   ]
  },
  {
   "cell_type": "code",
   "execution_count": 23,
   "id": "6a1e9772",
   "metadata": {},
   "outputs": [
    {
     "data": {
      "text/html": [
       "<div>\n",
       "<style scoped>\n",
       "    .dataframe tbody tr th:only-of-type {\n",
       "        vertical-align: middle;\n",
       "    }\n",
       "\n",
       "    .dataframe tbody tr th {\n",
       "        vertical-align: top;\n",
       "    }\n",
       "\n",
       "    .dataframe thead th {\n",
       "        text-align: right;\n",
       "    }\n",
       "</style>\n",
       "<table border=\"1\" class=\"dataframe\">\n",
       "  <thead>\n",
       "    <tr style=\"text-align: right;\">\n",
       "      <th></th>\n",
       "      <th>sku_id</th>\n",
       "      <th>product_name</th>\n",
       "      <th>filename</th>\n",
       "    </tr>\n",
       "  </thead>\n",
       "  <tbody>\n",
       "    <tr>\n",
       "      <th>0</th>\n",
       "      <td>SKU0015111</td>\n",
       "      <td>jordan jacket</td>\n",
       "      <td>Jordan jacket.jpg</td>\n",
       "    </tr>\n",
       "    <tr>\n",
       "      <th>1</th>\n",
       "      <td>SKU0015123</td>\n",
       "      <td>bath &amp; body works body lotion</td>\n",
       "      <td>Bath &amp; Body Works Body lotion.jpg</td>\n",
       "    </tr>\n",
       "    <tr>\n",
       "      <th>2</th>\n",
       "      <td>SKU0015133</td>\n",
       "      <td>carter's sleepers</td>\n",
       "      <td>Carter's Sleepers.jpg</td>\n",
       "    </tr>\n",
       "    <tr>\n",
       "      <th>3</th>\n",
       "      <td>SKU0015144</td>\n",
       "      <td>yves saint laurent rose</td>\n",
       "      <td>Yves Saint Laurent rose.jpg</td>\n",
       "    </tr>\n",
       "    <tr>\n",
       "      <th>4</th>\n",
       "      <td>SKU0015163</td>\n",
       "      <td>tommy hilfiger button-up shirt</td>\n",
       "      <td>Tommy Hilfiger button-up shirt.jpg</td>\n",
       "    </tr>\n",
       "    <tr>\n",
       "      <th>...</th>\n",
       "      <td>...</td>\n",
       "      <td>...</td>\n",
       "      <td>...</td>\n",
       "    </tr>\n",
       "    <tr>\n",
       "      <th>140</th>\n",
       "      <td>SKU0021662</td>\n",
       "      <td>diesel sweater</td>\n",
       "      <td>Diesel Sweater.jpg</td>\n",
       "    </tr>\n",
       "    <tr>\n",
       "      <th>141</th>\n",
       "      <td>SKU0022308</td>\n",
       "      <td>oshkosh b'gosh shorts</td>\n",
       "      <td>OshKosh B'gosh Shorts.jpg</td>\n",
       "    </tr>\n",
       "    <tr>\n",
       "      <th>142</th>\n",
       "      <td>SKU0022863</td>\n",
       "      <td>under armour blazer</td>\n",
       "      <td>Under Armour Blazer.jpg</td>\n",
       "    </tr>\n",
       "    <tr>\n",
       "      <th>143</th>\n",
       "      <td>SKU0024341</td>\n",
       "      <td>burberry jasmine</td>\n",
       "      <td>Burberry jasmine.jpg</td>\n",
       "    </tr>\n",
       "    <tr>\n",
       "      <th>144</th>\n",
       "      <td>SKU0025727</td>\n",
       "      <td>hanna andersson scarf</td>\n",
       "      <td>Hanna Andersson Scarf.jpg</td>\n",
       "    </tr>\n",
       "  </tbody>\n",
       "</table>\n",
       "<p>145 rows × 3 columns</p>\n",
       "</div>"
      ],
      "text/plain": [
       "         sku_id                    product_name  \\\n",
       "0    SKU0015111                   jordan jacket   \n",
       "1    SKU0015123   bath & body works body lotion   \n",
       "2    SKU0015133               carter's sleepers   \n",
       "3    SKU0015144         yves saint laurent rose   \n",
       "4    SKU0015163  tommy hilfiger button-up shirt   \n",
       "..          ...                             ...   \n",
       "140  SKU0021662                  diesel sweater   \n",
       "141  SKU0022308           oshkosh b'gosh shorts   \n",
       "142  SKU0022863             under armour blazer   \n",
       "143  SKU0024341                burberry jasmine   \n",
       "144  SKU0025727           hanna andersson scarf   \n",
       "\n",
       "                               filename  \n",
       "0                     Jordan jacket.jpg  \n",
       "1     Bath & Body Works Body lotion.jpg  \n",
       "2                 Carter's Sleepers.jpg  \n",
       "3           Yves Saint Laurent rose.jpg  \n",
       "4    Tommy Hilfiger button-up shirt.jpg  \n",
       "..                                  ...  \n",
       "140                  Diesel Sweater.jpg  \n",
       "141           OshKosh B'gosh Shorts.jpg  \n",
       "142             Under Armour Blazer.jpg  \n",
       "143                Burberry jasmine.jpg  \n",
       "144           Hanna Andersson Scarf.jpg  \n",
       "\n",
       "[145 rows x 3 columns]"
      ]
     },
     "execution_count": 23,
     "metadata": {},
     "output_type": "execute_result"
    }
   ],
   "source": [
    "prods_df"
   ]
  },
  {
   "cell_type": "code",
   "execution_count": 26,
   "id": "6eb5f44f",
   "metadata": {},
   "outputs": [
    {
     "data": {
      "text/plain": [
       "'/Users/astrobalaji/Documents/stacknexus/tmdc_poc/retail_demo/productSKU/static_imgs'"
      ]
     },
     "execution_count": 26,
     "metadata": {},
     "output_type": "execute_result"
    }
   ],
   "source": [
    "os.getcwd()"
   ]
  },
  {
   "cell_type": "code",
   "execution_count": 29,
   "id": "4ba50e34",
   "metadata": {},
   "outputs": [],
   "source": [
    "os.rename?"
   ]
  },
  {
   "cell_type": "code",
   "execution_count": 30,
   "id": "76a2da1a",
   "metadata": {},
   "outputs": [],
   "source": [
    "os.chdir('stat_upload/')"
   ]
  },
  {
   "cell_type": "code",
   "execution_count": 32,
   "id": "376b5ed9",
   "metadata": {},
   "outputs": [],
   "source": [
    "for i, row in prods_df.iterrows():\n",
    "    os.rename(row['sku_id'], row['sku_id']+'.jpg')"
   ]
  },
  {
   "cell_type": "code",
   "execution_count": null,
   "id": "bc6519dd",
   "metadata": {},
   "outputs": [],
   "source": []
  }
 ],
 "metadata": {
  "kernelspec": {
   "display_name": "Python 3 (ipykernel)",
   "language": "python",
   "name": "python3"
  },
  "language_info": {
   "codemirror_mode": {
    "name": "ipython",
    "version": 3
   },
   "file_extension": ".py",
   "mimetype": "text/x-python",
   "name": "python",
   "nbconvert_exporter": "python",
   "pygments_lexer": "ipython3",
   "version": "3.9.7"
  }
 },
 "nbformat": 4,
 "nbformat_minor": 5
}
